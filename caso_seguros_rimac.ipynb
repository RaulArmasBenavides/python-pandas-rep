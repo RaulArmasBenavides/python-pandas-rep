{
 "cells": [
  {
   "cell_type": "markdown",
   "id": "4b193b61",
   "metadata": {},
   "source": [
    "## 🏥 Caso: Seguros Rímac y la gestión de pólizas\n",
    "En Rímac, una de las principales aseguradoras del país, se necesita analizar información de clientes, pólizas y siniestros.  "
   ]
  },
  {
   "cell_type": "markdown",
   "id": "3c60c46a",
   "metadata": {},
   "source": [
    "### 1️⃣  Tipos de pólizas ofrecidas"
   ]
  },
  {
   "cell_type": "code",
   "execution_count": 1,
   "id": "4abbe4a2",
   "metadata": {},
   "outputs": [
    {
     "name": "stdout",
     "output_type": "stream",
     "text": [
      "-> Lista de pólizas disponibles: ['Salud', 'Vida', 'Vehicular', 'Hogar']\n",
      "-> Lista actualizada de pólizas: ['Salud', 'Vida', 'Vehicular', 'Hogar', 'Viajes']\n",
      "-> Segunda póliza: Vida\n",
      "• Salud\n",
      "• Vida\n",
      "• Vehicular\n",
      "• Hogar\n",
      "• Viajes\n"
     ]
    }
   ],
   "source": [
    "polizas = ['Salud', 'Vida', 'Vehicular', 'Hogar']\n",
    "print('-> Lista de pólizas disponibles:', polizas)\n",
    "\n",
    "polizas.append('Viajes')\n",
    "print('-> Lista actualizada de pólizas:', polizas)\n",
    "\n",
    "print('-> Segunda póliza:', polizas[1])\n",
    "\n",
    "for tipo in polizas:\n",
    "    print('•', tipo)"
   ]
  },
  {
   "cell_type": "markdown",
   "id": "a8349d3c",
   "metadata": {},
   "source": [
    "### 2️⃣ Diccionarios – Clientes y su tipo de póliza"
   ]
  },
  {
   "cell_type": "code",
   "execution_count": 2,
   "id": "2cb1cbda",
   "metadata": {},
   "outputs": [
    {
     "name": "stdout",
     "output_type": "stream",
     "text": [
      "Póliza de Carlos Quispe: Vehicular\n",
      "Ana Torres tiene una póliza de Salud\n",
      "Luis Vargas tiene una póliza de Vida\n",
      "Carlos Quispe tiene una póliza de Vehicular\n",
      "Rosa Díaz tiene una póliza de Salud\n",
      "Julia Meza tiene una póliza de Hogar\n"
     ]
    }
   ],
   "source": [
    "clientes = {\n",
    "    'Ana Torres': 'Salud',\n",
    "    'Luis Vargas': 'Vida',\n",
    "    'Carlos Quispe': 'Vehicular',\n",
    "    'Rosa Díaz': 'Salud'\n",
    "}\n",
    "\n",
    "print(\"Póliza de Carlos Quispe:\", clientes['Carlos Quispe'])\n",
    "\n",
    "clientes['Julia Meza'] = 'Hogar'\n",
    "\n",
    "for nombre, poliza in clientes.items():\n",
    "    print(f\"{nombre} tiene una póliza de {poliza}\")"
   ]
  },
  {
   "cell_type": "markdown",
   "id": "a7b594e4",
   "metadata": {},
   "source": [
    "### 3️⃣ DataFrames – Registro de siniestros"
   ]
  },
  {
   "cell_type": "code",
   "execution_count": 3,
   "id": "f88a356d",
   "metadata": {},
   "outputs": [
    {
     "name": "stdout",
     "output_type": "stream",
     "text": [
      "         Cliente     Póliza  Monto del siniestro         Estado\n",
      "0     Ana Torres      Salud                 1200       Aprobado\n",
      "1    Luis Vargas       Vida                50000  En evaluación\n",
      "2  Carlos Quispe  Vehicular                 3000       Aprobado\n",
      "3     Julia Meza      Hogar                 2500      Rechazado\n"
     ]
    }
   ],
   "source": [
    "import pandas as pd\n",
    "\n",
    "data = {\n",
    "    'Cliente': ['Ana Torres', 'Luis Vargas', 'Carlos Quispe', 'Julia Meza'],\n",
    "    'Póliza': ['Salud', 'Vida', 'Vehicular', 'Hogar'],\n",
    "    'Monto del siniestro': [1200, 50000, 3000, 2500],\n",
    "    'Estado': ['Aprobado', 'En evaluación', 'Aprobado', 'Rechazado']\n",
    "}\n",
    "\n",
    "df = pd.DataFrame(data)\n",
    "print(df)"
   ]
  },
  {
   "cell_type": "markdown",
   "id": "b45bd985",
   "metadata": {},
   "source": [
    "### 4️⃣ Análisis de siniestros aprobados"
   ]
  },
  {
   "cell_type": "code",
   "execution_count": null,
   "id": "c831a893",
   "metadata": {},
   "outputs": [],
   "source": [
    "aprobados = df[df['Estado'] == 'Aprobado']\n",
    "print(\"Siniestros aprobados:\")\n",
    "print(aprobados)\n",
    "\n",
    "total_aprobado = aprobados['Monto del siniestro'].sum()\n",
    "print(\"\\nMonto total aprobado:\", total_aprobado)"
   ]
  },
  {
   "cell_type": "markdown",
   "id": "432c1254",
   "metadata": {},
   "source": [
    "### 5️⃣ Agrupación – Total por tipo de póliza"
   ]
  },
  {
   "cell_type": "code",
   "execution_count": null,
   "id": "468b2cd5",
   "metadata": {},
   "outputs": [],
   "source": [
    "grouped = df.groupby('Póliza')['Monto del siniestro'].sum().reset_index()\n",
    "print(grouped)"
   ]
  },
  {
   "cell_type": "markdown",
   "id": "5a19513a",
   "metadata": {},
   "source": [
    "### 6️⃣ Visualización – Gráfico de barras del monto por póliza"
   ]
  },
  {
   "cell_type": "code",
   "execution_count": null,
   "id": "c31fa13d",
   "metadata": {},
   "outputs": [],
   "source": [
    "import matplotlib.pyplot as plt\n",
    "\n",
    "plt.figure(figsize=(8,5))\n",
    "plt.bar(grouped['Póliza'], grouped['Monto del siniestro'])\n",
    "plt.title('Monto de siniestros por tipo de póliza')\n",
    "plt.xlabel('Tipo de póliza')\n",
    "plt.ylabel('Monto (S/)')\n",
    "plt.grid(axis='y')\n",
    "plt.show()"
   ]
  }
 ],
 "metadata": {
  "kernelspec": {
   "display_name": "Python 3",
   "language": "python",
   "name": "python3"
  },
  "language_info": {
   "codemirror_mode": {
    "name": "ipython",
    "version": 3
   },
   "file_extension": ".py",
   "mimetype": "text/x-python",
   "name": "python",
   "nbconvert_exporter": "python",
   "pygments_lexer": "ipython3",
   "version": "3.12.6"
  }
 },
 "nbformat": 4,
 "nbformat_minor": 5
}
