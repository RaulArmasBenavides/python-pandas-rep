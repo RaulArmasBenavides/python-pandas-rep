{
 "cells": [
  {
   "cell_type": "markdown",
   "id": "d9d8b8f5",
   "metadata": {},
   "source": [
    "## Caso: Robert Greenberg y la venta de pelucas\n",
    "En sus inicios, Robert Greenberg comenzó vendiendo pelucas. Para organizar su inventario, gestionar precios y observar patrones, necesitaba aprender a usar estructuras de datos en Python. En esta semana aprenderemos a representar listas de productos, precios, estilos únicos y registros de ventas usando listas, tuplas, conjuntos, diccionarios, arrays y DataFrames."
   ]
  },
  {
   "cell_type": "markdown",
   "id": "53db659e",
   "metadata": {},
   "source": [
    "### 1️⃣ Listas en Python – Lista de pelucas disponibles\n",
    "Una **lista** es una colección ordenada y modificable. Ideal para guardar los nombres de productos disponibles."
   ]
  },
  {
   "cell_type": "code",
   "execution_count": 2,
   "id": "680989d4",
   "metadata": {},
   "outputs": [
    {
     "name": "stdout",
     "output_type": "stream",
     "text": [
      "-> Lista de pelucas ['Lacia rubia', 'Rizada morena', 'Corta pelirroja', 'Afro negra']\n",
      "\n",
      "-> Primera peluca de la lista: Lacia rubia\n",
      "\n",
      "-> Lista de pelucas antiguas y Nuevas ['Lacia rubia', 'Rizada morena', 'Corta pelirroja', 'Afro negra', 'Larga rubio cenizo']\n",
      "\n",
      "-> Lista actualizada de pelucas ['Lacia rubia', 'Rizada morena', 'Corta cobriza', 'Afro negra', 'Larga rubio cenizo']\n",
      "\n",
      "• Lacia rubia\n",
      "• Rizada morena\n",
      "• Corta cobriza\n",
      "• Afro negra\n",
      "• Larga rubio cenizo\n",
      "\n",
      "-> Lista de pelucas actualizadas ['Lacia rubia', 'Rizada morena', 'Corta cobriza', 'Larga rubio cenizo']\n"
     ]
    }
   ],
   "source": [
    "# Lista básica de pelucas\n",
    "pelucas = ['Lacia rubia', 'Rizada morena', 'Corta pelirroja', 'Afro negra']\n",
    "print('-> Lista de pelucas', pelucas)\n",
    "print()\n",
    "# Acceder al primer producto\n",
    "print('-> Primera peluca de la lista:', pelucas[0])\n",
    "print()\n",
    "# Agregar una nueva peluca\n",
    "pelucas.append('Larga rubio cenizo')\n",
    "print('-> Lista de pelucas antiguas y Nuevas', pelucas)\n",
    "print()\n",
    "# Cambiar el nombre de una peluca\n",
    "pelucas[2] = 'Corta cobriza'\n",
    "print('-> Lista actualizada de pelucas', pelucas)\n",
    "print()\n",
    "# Recorrer todas las pelucas\n",
    "for p in pelucas:\n",
    "    print('•', p)\n",
    "print()\n",
    "# Eliminar una peluca\n",
    "pelucas.remove('Afro negra')\n",
    "print('-> Lista de pelucas actualizadas', pelucas)"
   ]
  },
  {
   "cell_type": "markdown",
   "id": "5a2ec4f7",
   "metadata": {},
   "source": [
    "### 2️⃣ Tuplas – Diseños exclusivos de pelucas\n",
    "Las **tuplas** son colecciones ordenadas pero **inmutables**. En este caso serán utiles para evidenciar:\n",
    "\n",
    "• Algunas pelucas, como las que tienen cerquillo , están diseñadas exclusivamente para cierto tipo de cráneo (por ejemplo: alargado ).\n",
    "\n",
    "• No se ofrecen para otros modelos (por ejemplo: ovalado ) porque no favorecen la fisionomía .\n",
    "\n",
    "• Estas asociaciones fijas entre estilo de peluca y tipo de cráneo no deben cambiar → ¡ Tupla al rescate!"
   ]
  },
  {
   "cell_type": "code",
   "execution_count": 6,
   "id": "50740660",
   "metadata": {},
   "outputs": [],
   "source": [
    "# Combinaciones válidas de peluca y tipo de cráneo\n",
    "combinaciones_validas = (\n",
    "    ('Cerquillo recto', 'Alargado'),\n",
    "    ('Larga con ondas', 'Ovalado'),\n",
    "    ('Corta con capas', 'Redondo'),\n",
    "    ('Afro voluminoso', 'Triangular')\n",
    ")"
   ]
  },
  {
   "cell_type": "code",
   "execution_count": 8,
   "id": "ba2ce33f-4cde-4d15-9c3c-0c9b3c5b7afa",
   "metadata": {},
   "outputs": [
    {
     "name": "stdout",
     "output_type": "stream",
     "text": [
      "Catálogo de pelucas disponibles:\n",
      "\n",
      "Peluca: Cerquillo recto\n",
      "Peluca: Larga con ondas\n",
      "Peluca: Corta con capas\n",
      "Peluca: Afro voluminoso\n"
     ]
    }
   ],
   "source": [
    "# Mostrar pelucas del catálogo\n",
    "print(\"Catálogo de pelucas disponibles:\")\n",
    "print()\n",
    "for peluca, craneo in combinaciones_validas:\n",
    "    print(f\"Peluca: {peluca}\")\n"
   ]
  },
  {
   "cell_type": "code",
   "execution_count": 9,
   "id": "ad753a5f-c7db-4c1e-a404-4d6d628b56df",
   "metadata": {},
   "outputs": [
    {
     "name": "stdout",
     "output_type": "stream",
     "text": [
      "Estilos de pelucas disponibles:\n",
      "1. Cerquillo recto\n",
      "2. Larga con ondas\n",
      "3. Corta con capas\n",
      "4. Afro voluminoso\n",
      "\n",
      "Tipos de cráneo que lo usará:\n",
      "1. Alargado\n",
      "2. Ovalado\n",
      "3. Redondo\n",
      "4. Triangular\n",
      "\n",
      "La peluca 'Cerquillo recto' NO es recomendable para el cráneo sugerido'Redondo'.\n"
     ]
    }
   ],
   "source": [
    "# Verificar si una peluca puede ofrecerse a cierto tipo de cráneo\n",
    "\n",
    "# Mostrar opciones numeradas\n",
    "print(\"Estilos de pelucas disponibles:\")\n",
    "for i, (peluca, _) in enumerate(combinaciones_validas):\n",
    "    print(f\"{i + 1}. {peluca}\")\n",
    "\n",
    "print(\"\\nTipos de cráneo que lo usará:\")\n",
    "tipos_craneo = ['Alargado', 'Ovalado', 'Redondo', 'Triangular']\n",
    "for i, tipo in enumerate(tipos_craneo):\n",
    "    print(f\"{i + 1}. {tipo}\")\n",
    "\n",
    "# Solicitar opciones por número\n",
    "op_peluca = int(input(\"\\nIngrese el número de la peluca deseada: \")) - 1\n",
    "op_craneo = int(input(\"Ingrese el número del tipo de cráneo: \")) - 1\n",
    "\n",
    "# Obtener nombres a partir de las selecciones\n",
    "peluca_deseada = combinaciones_validas[op_peluca][0]\n",
    "craneo_cliente = tipos_craneo[op_craneo]\n",
    "\n",
    "# Verificar compatibilidad\n",
    "if (peluca_deseada, craneo_cliente) in combinaciones_validas:\n",
    "    print(f\"\\nLa peluca '{peluca_deseada}' es compatible con el cráneo '{craneo_cliente}'.\")\n",
    "else:\n",
    "    print(f\"\\nLa peluca '{peluca_deseada}' NO es recomendable para el cráneo sugerido'{craneo_cliente}'.\")\n",
    "\n"
   ]
  },
  {
   "cell_type": "code",
   "execution_count": 10,
   "id": "8d8a8654-5ae2-4601-ad1f-80f4d64a971e",
   "metadata": {},
   "outputs": [
    {
     "name": "stdout",
     "output_type": "stream",
     "text": [
      "La peluca 'Cerquillo recto' está diseñada para resaltar rostros con estructura 'Alargado'.\n",
      "La peluca 'Larga con ondas' está diseñada para resaltar rostros con estructura 'Ovalado'.\n",
      "La peluca 'Corta con capas' está diseñada para resaltar rostros con estructura 'Redondo'.\n",
      "La peluca 'Afro voluminoso' está diseñada para resaltar rostros con estructura 'Triangular'.\n"
     ]
    }
   ],
   "source": [
    "# Breve explicación que podría integrarse al código anterior\n",
    "for peluca, craneo in combinaciones_validas:\n",
    "    print(f\"La peluca '{peluca}' está diseñada para resaltar rostros con estructura '{craneo}'.\")\n"
   ]
  },
  {
   "cell_type": "code",
   "execution_count": 13,
   "id": "843870d3-9b86-47ca-a9c7-ea0f4f6a6c4c",
   "metadata": {},
   "outputs": [
    {
     "name": "stdout",
     "output_type": "stream",
     "text": [
      "CATÁLOGO DE PELUCAS\n",
      "===================\n",
      "Pelucas para todo los tipos de clientes:\n",
      "..................................\n",
      "Lista de pelucas para todo los tipos de clientes:\n",
      "['Lacia rubia', 'Rizada morena', 'Corta pelirroja', 'Afro negra']\n",
      "\n",
      "Catálogo actualizado tras agregar nueva peluca:\n",
      "['Lacia rubia', 'Rizada morena', 'Corta pelirroja', 'Afro negra', 'Estilo gato']\n",
      "Pelucas con diseños esclusivos:\n",
      "..............................\n",
      "\n",
      "Pelucas con diseños exclusivos: (tuplas):\n",
      "- Peluca: Cerquillo recto | Tipo de cráneo: Alargado\n",
      "- Peluca: Larga con ondas | Tipo de cráneo: Ovalado\n",
      "- Peluca: Corta con capas | Tipo de cráneo: Redondo\n",
      "- Peluca: Afro voluminoso | Tipo de cráneo: Triangular\n"
     ]
    }
   ],
   "source": [
    "# Catálogo completo de pelucas\n",
    "\n",
    "print('CATÁLOGO DE PELUCAS')\n",
    "print('===================')\n",
    "# --------------------------------------------------------------------------------------------------------------------------------\n",
    "# Pelucas todo los tipos de clientes (mutable)\n",
    "# --------------------------------------------------------------------------------------------------------------------------------\n",
    "print('Pelucas para todo los tipos de clientes:')\n",
    "print('..................................')\n",
    "\n",
    "catalogo_general = ['Lacia rubia', 'Rizada morena', 'Corta pelirroja', 'Afro negra']\n",
    "\n",
    "print(\"Lista de pelucas para todo los tipos de clientes:\")\n",
    "print(catalogo_general)\n",
    "\n",
    "# Se puede agregar o quitar elementos (porque es una lista)\n",
    "catalogo_general.append('Estilo gato')\n",
    "print(\"\\nCatálogo actualizado tras agregar nueva peluca:\")\n",
    "print(catalogo_general)\n",
    "\n",
    "# -------------------------------------------------------------------------------------------------------------------------------\n",
    "# Pelucas con diseños esclusivos: (inmutables)\n",
    "# -------------------------------------------------------------------------------------------------------------------------------\n",
    "print('Pelucas con diseños esclusivos:')\n",
    "print('..............................')\n",
    "combinaciones_validas = (\n",
    "    ('Cerquillo recto', 'Alargado'),\n",
    "    ('Larga con ondas', 'Ovalado'),\n",
    "    ('Corta con capas', 'Redondo'),\n",
    "    ('Afro voluminoso', 'Triangular')\n",
    ")\n",
    "\n",
    "print('\\nPelucas con diseños exclusivos: (tuplas):')\n",
    "for peluca, craneo in combinaciones_validas:\n",
    "    print(f\"- Peluca: {peluca} | Tipo de cráneo: {craneo}\")\n",
    "\n"
   ]
  },
  {
   "cell_type": "markdown",
   "id": "e3274c9c",
   "metadata": {},
   "source": [
    "### 3️⃣ Conjuntos – Estilos únicos en tendencia\n",
    "Los **sets** o conjuntos son colecciones **no ordenadas** y **sin duplicados**. Son útiles para analizar estilos únicos."
   ]
  },
  {
   "cell_type": "code",
   "execution_count": 15,
   "id": "60ab6961",
   "metadata": {},
   "outputs": [
    {
     "name": "stdout",
     "output_type": "stream",
     "text": [
      "Estilos únicos pedidos: {'Larga con ondas', 'Cerquillo recto', 'Afro voluminoso'}\n",
      "¿Se pidió 'Afro voluminoso'? True\n"
     ]
    }
   ],
   "source": [
    "# Listado de pelucas pedidas por varios clientes\n",
    "pedidos = ['Afro voluminoso', 'Cerquillo recto', 'Afro voluminoso', 'Larga con ondas', 'Cerquillo recto']\n",
    "\n",
    "# Convertir a conjunto para ver estilos únicos vendidos al cierre de tienda\n",
    "estilos_unicos = set(pedidos)\n",
    "print(\"Estilos únicos pedidos:\", estilos_unicos)\n",
    "\n",
    "# Verificar si un estilo fue pedido o no\n",
    "print(\"¿Se pidió 'Afro voluminoso'?\", 'Afro voluminoso' in estilos_unicos)\n"
   ]
  },
  {
   "cell_type": "markdown",
   "id": "c51af09b-9b8b-4ad2-96ff-b33860cd6672",
   "metadata": {},
   "source": [
    "=>\n",
    "**Un conjunto puede ayudarnos a verificar si un mismo cliente ya ha hecho un pedido igual (producto, fecha, cantidad), evitando duplicaciones por error.**\n",
    "\n",
    "Esto es útil para validar integridad de registros."
   ]
  },
  {
   "cell_type": "code",
   "execution_count": 16,
   "id": "42f99ea8-187a-4d41-9242-7b6d07de5070",
   "metadata": {},
   "outputs": [
    {
     "name": "stdout",
     "output_type": "stream",
     "text": [
      "Pedidos registrados:\n",
      "('cliente2', 'Afro voluminoso', '2025-03-01', 1)\n",
      "('cliente1', 'Cerquillo recto', '2025-03-01', 2)\n",
      "('cliente3', 'Corta con capas', '2025-03-02', 1)\n"
     ]
    }
   ],
   "source": [
    "# Cada pedido tiene: (cliente, producto, fecha, cantidad)\n",
    "pedidos = [\n",
    "    ('cliente1', 'Cerquillo recto', '2025-03-01', 2),\n",
    "    ('cliente2', 'Afro voluminoso', '2025-03-01', 1),\n",
    "    ('cliente1', 'Cerquillo recto', '2025-03-01', 2),  # Pedido duplicado\n",
    "    ('cliente3', 'Corta con capas', '2025-03-02', 1)\n",
    "]\n",
    "\n",
    "# Convertimos a set para eliminar duplicados exactos\n",
    "pedidos_unicos = set(pedidos)\n",
    "\n",
    "print(\"Pedidos registrados:\")\n",
    "for pedido in pedidos_unicos:\n",
    "    print(pedido)\n"
   ]
  },
  {
   "cell_type": "markdown",
   "id": "d52a6386",
   "metadata": {},
   "source": [
    "### 4️⃣ Diccionarios – Inventario por tipo de peluca\n",
    "Los **diccionarios** almacenan información con pares clave:valor. Ideal para registrar cantidades en stock."
   ]
  },
  {
   "cell_type": "code",
   "execution_count": 17,
   "id": "e3120813",
   "metadata": {},
   "outputs": [
    {
     "name": "stdout",
     "output_type": "stream",
     "text": [
      "Inventario inicial:\n",
      " - Cerquillo recto: 12 unidades\n",
      " - Larga con ondas: 8 unidades\n",
      " - Afro voluminoso: 5 unidades\n",
      " - Corta con capas: 10 unidades\n",
      " - Lacia rubia    : 6 unidades\n",
      " - Rizada morena  : 4 unidades\n",
      " - Corta pelirroja: 3 unidades\n",
      " - Afro negra     : 7 unidades\n",
      "\n",
      "Afro negra no está disponible en el inventario.\n",
      "\n",
      "Inventario tras actualizar stock EN MENOS 3 de 'Rizada morena':\n",
      " - Cerquillo recto: 12 unidades\n",
      " - Larga con ondas: 8 unidades\n",
      " - Afro voluminoso: 5 unidades\n",
      " - Corta con capas: 10 unidades\n",
      " - Lacia rubia    : 6 unidades\n",
      " - Rizada morena  : 7 unidades\n",
      " - Corta pelirroja: 3 unidades\n",
      " - Afro negra     : 7 unidades\n",
      "\n",
      "Inventario final tras eliminar 'Afro negra     ':\n",
      " - Cerquillo recto: 12 unidades\n",
      " - Larga con ondas: 8 unidades\n",
      " - Afro voluminoso: 5 unidades\n",
      " - Corta con capas: 10 unidades\n",
      " - Lacia rubia    : 6 unidades\n",
      " - Rizada morena  : 7 unidades\n",
      " - Corta pelirroja: 3 unidades\n"
     ]
    }
   ],
   "source": [
    "inventario = {\n",
    "    'Cerquillo recto': 12,\n",
    "    'Larga con ondas': 8,\n",
    "    'Afro voluminoso': 5,\n",
    "    'Corta con capas': 10,\n",
    "    'Lacia rubia    ': 6,\n",
    "    'Rizada morena  ': 4,\n",
    "    'Corta pelirroja': 3,\n",
    "    'Afro negra     ': 7\n",
    "}\n",
    "\n",
    "# Mostrar inventario inicial\n",
    "print(\"Inventario inicial:\")\n",
    "for peluca, stock in inventario.items():\n",
    "    print(f\" - {peluca}: {stock} unidades\")\n",
    "\n",
    "# Consultar stock de una peluca antes de eliminar\n",
    "if 'Afro negra' in inventario:\n",
    "    print(f\"\\nStock de Afro negra: {inventario['Afro negra']} unidades\")\n",
    "else:\n",
    "    print(\"\\nAfro negra no está disponible en el inventario.\")\n",
    "\n",
    "# Actualizar stock\n",
    "inventario['Rizada morena  '] += 3\n",
    "print(\"\\nInventario tras actualizar stock EN MENOS 3 de 'Rizada morena':\")\n",
    "for peluca, stock in inventario.items():\n",
    "    print(f\" - {peluca}: {stock} unidades\")\n",
    "\n",
    "# Eliminar una peluca del inventario\n",
    "del inventario['Afro negra     ']\n",
    "print(\"\\nInventario final tras eliminar 'Afro negra     ':\")\n",
    "for peluca, stock in inventario.items():\n",
    "    print(f\" - {peluca}: {stock} unidades\")\n",
    "\n"
   ]
  },
  {
   "cell_type": "markdown",
   "id": "5f062d84",
   "metadata": {},
   "source": [
    "### 5️⃣ Arrays – Ventas mensuales usando NumPy\n",
    "Los **arrays** son estructuras de datos eficientes para cálculos matemáticos."
   ]
  },
  {
   "cell_type": "code",
   "execution_count": 19,
   "id": "4c5de776",
   "metadata": {},
   "outputs": [
    {
     "name": "stdout",
     "output_type": "stream",
     "text": [
      "Cerquillo recto  : 20 vendidas x $50 = $1000\n",
      "Larga con ondas  : 10 vendidas x $75 = $750\n",
      "Afro voluminoso  : 8 vendidas x $100 = $800\n",
      "Corta con capas  : 15 vendidas x $65 = $975\n",
      "Lacia rubia      : 12 vendidas x $70 = $840\n",
      "Rizada morena    : 5 vendidas x $85 = $425\n",
      "Corta pelirroja  : 4 vendidas x $90 = $360\n",
      "Afro negra       : 7 vendidas x $80 = $560\n",
      "\n",
      "Ingreso total: $5710 USD\n"
     ]
    }
   ],
   "source": [
    "import numpy as np\n",
    "\n",
    "pelucas = ['Cerquillo recto  ', 'Larga con ondas  ', 'Afro voluminoso  ', 'Corta con capas  ',\n",
    "           'Lacia rubia      ', 'Rizada morena    ', 'Corta pelirroja  ', 'Afro negra       ']\n",
    "\n",
    "# Precios y ventas correspondientes\n",
    "precios = np.array([50, 75, 100, 65, 70, 85, 90, 80])\n",
    "ventas = np.array([20, 10, 8, 15, 12, 5, 4, 7])\n",
    "\n",
    "# Ingresos\n",
    "ingresos = precios * ventas\n",
    "\n",
    "for i in range(len(pelucas)):\n",
    "    print(f\"{pelucas[i]}: {ventas[i]} vendidas x ${precios[i]} = ${ingresos[i]}\")\n",
    "\n",
    "print(f\"\\nIngreso total: ${ingresos.sum()} USD\")\n"
   ]
  },
  {
   "cell_type": "markdown",
   "id": "d3346f66",
   "metadata": {},
   "source": [
    "### 6️⃣ Pandas – Registro de ventas en DataFrame\n",
    "Pandas permite manejar tablas de datos como Excel. Ideal para ver todo el catálogo de pelucas con precios y stock."
   ]
  },
  {
   "cell_type": "code",
   "execution_count": 21,
   "id": "20ba410f",
   "metadata": {},
   "outputs": [
    {
     "name": "stdout",
     "output_type": "stream",
     "text": [
      "PRECIO y STOCK DE CADA PELUCA\n",
      "\n",
      "          Peluca  Precio  Stock\n",
      "0    Lacia rubia    55.0     10\n",
      "1  Rizada morena    60.0      8\n",
      "2  Corta cobriza    50.0      5\n",
      "\n",
      "VALOR TOTAL EN STOCK POR PRODUCTO\n",
      "          Peluca  Precio  Stock  Total Inventario\n",
      "0    Lacia rubia    55.0     10             550.0\n",
      "1  Rizada morena    60.0      8             480.0\n",
      "2  Corta cobriza    50.0      5             250.0\n",
      "\n",
      "PELUCAS CON STOCK MENOR A 8 UNIDADES\n",
      "\n",
      "          Peluca  Precio  Stock  Total Inventario\n",
      "2  Corta cobriza    50.0      5             250.0\n"
     ]
    }
   ],
   "source": [
    "import pandas as pd\n",
    "\n",
    "data = {\n",
    "    'Peluca': ['Lacia rubia', 'Rizada morena', 'Corta cobriza'],\n",
    "    'Precio': [55.0, 60.0, 50.0],\n",
    "    'Stock': [10, 8, 5]\n",
    "}\n",
    "print('PRECIO y STOCK DE CADA PELUCA')\n",
    "print()\n",
    "\n",
    "df = pd.DataFrame(data)\n",
    "print(df)\n",
    "print()\n",
    "\n",
    "# Calcular valor total en stock por producto\n",
    "\n",
    "df['Total Inventario'] = df['Precio'] * df['Stock']\n",
    "print('VALOR TOTAL EN STOCK POR PRODUCTO')\n",
    "print(df)\n",
    "print()\n",
    "\n",
    "# Filtrar productos con stock menor a 8\n",
    "print('PELUCAS CON STOCK MENOR A 8 UNIDADES')\n",
    "print()\n",
    "print(df[df['Stock'] < 8])"
   ]
  },
  {
   "cell_type": "code",
   "execution_count": 22,
   "id": "c276c98f-6f0f-43dd-8b6d-170ae3ba8fd0",
   "metadata": {},
   "outputs": [
    {
     "name": "stdout",
     "output_type": "stream",
     "text": [
      "CATÁLOGO GENERAL CON INFORMACIÓN ENRIQUECIDA\n",
      "            Peluca  Precio  Stock  Total Inventario Compatible\n",
      "0  Cerquillo recto    55.0     12             660.0         Sí\n",
      "1  Larga con ondas    60.0      8             480.0         Sí\n",
      "2  Afro voluminoso    50.0      5             250.0         Sí\n",
      "3  Corta con capas    58.0     10             580.0         Sí\n",
      "4      Lacia rubia    52.0      6             312.0         No\n",
      "5    Rizada morena    54.0      4             216.0         No\n",
      "6  Corta pelirroja    57.0      3             171.0         No\n",
      "7       Afro negra    59.0      7             413.0         No\n",
      "\n",
      "Pelucas con stock menor a 8 unidades:\n",
      "            Peluca  Precio  Stock  Total Inventario Compatible\n",
      "2  Afro voluminoso    50.0      5             250.0         Sí\n",
      "4      Lacia rubia    52.0      6             312.0         No\n",
      "5    Rizada morena    54.0      4             216.0         No\n",
      "6  Corta pelirroja    57.0      3             171.0         No\n",
      "7       Afro negra    59.0      7             413.0         No\n"
     ]
    }
   ],
   "source": [
    "import pandas as pd\n",
    "\n",
    "# Tuplas válidas: peluca + tipo de cráneo\n",
    "combinaciones_validas = [\n",
    "    ('Cerquillo recto', 'Alargado'),\n",
    "    ('Larga con ondas', 'Ovalado'),\n",
    "    ('Afro voluminoso', 'Triangular'),\n",
    "    ('Corta con capas', 'Redondo')\n",
    "]\n",
    "\n",
    "# Diccionario de precios y stock por peluca\n",
    "precios_stock = {\n",
    "    'Cerquillo recto': (55.0, 12),\n",
    "    'Larga con ondas': (60.0, 8),\n",
    "    'Afro voluminoso': (50.0, 5),\n",
    "    'Corta con capas': (58.0, 10),\n",
    "    'Lacia rubia': (52.0, 6),\n",
    "    'Rizada morena': (54.0, 4),\n",
    "    'Corta pelirroja': (57.0, 3),\n",
    "    'Afro negra': (59.0, 7)\n",
    "}\n",
    "\n",
    "# Convertir diccionario a DataFrame\n",
    "df = pd.DataFrame([\n",
    "    {'Peluca': peluca, 'Precio': datos[0], 'Stock': datos[1]} \n",
    "    for peluca, datos in precios_stock.items()\n",
    "])\n",
    "\n",
    "# Calcular total por producto\n",
    "df['Total Inventario'] = df['Precio'] * df['Stock']\n",
    "\n",
    "# Marcar si el modelo es compatible con algún tipo de cráneo\n",
    "df['Compatible'] = df['Peluca'].apply(\n",
    "    lambda p: 'Sí' if any(p == comb[0] for comb in combinaciones_validas) else 'No'\n",
    ")\n",
    "\n",
    "# Mostrar DataFrame completo\n",
    "print(\"CATÁLOGO GENERAL CON INFORMACIÓN ENRIQUECIDA\")\n",
    "print(df)\n",
    "\n",
    "# Filtrar pelucas con stock bajo\n",
    "print(\"\\nPelucas con stock menor a 8 unidades:\")\n",
    "print(df[df['Stock'] < 8])\n"
   ]
  },
  {
   "cell_type": "code",
   "execution_count": null,
   "id": "915422de-9b21-4fef-81d4-107529f9e3ab",
   "metadata": {},
   "outputs": [],
   "source": []
  }
 ],
 "metadata": {
  "kernelspec": {
   "display_name": "Python 3",
   "language": "python",
   "name": "python3"
  },
  "language_info": {
   "codemirror_mode": {
    "name": "ipython",
    "version": 3
   },
   "file_extension": ".py",
   "mimetype": "text/x-python",
   "name": "python",
   "nbconvert_exporter": "python",
   "pygments_lexer": "ipython3",
   "version": "3.12.6"
  }
 },
 "nbformat": 4,
 "nbformat_minor": 5
}
