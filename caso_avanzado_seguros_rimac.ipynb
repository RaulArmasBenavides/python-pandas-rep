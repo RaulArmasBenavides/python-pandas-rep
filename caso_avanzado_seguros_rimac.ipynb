{
 "cells": [
  {
   "cell_type": "markdown",
   "id": "125e7d78",
   "metadata": {},
   "source": [
    "# 🏢 Caso avanzado: Análisis de Siniestros y Clientes en Seguros Rímac\n",
    "Este caso simula una base de datos realista para analizar clientes, tipos de pólizas, siniestros, estado de las reclamaciones y cálculo de KPIs clave. Se utilizará `pandas` para análisis y `matplotlib` para visualización."
   ]
  },
  {
   "cell_type": "code",
   "execution_count": 1,
   "id": "198b065e",
   "metadata": {},
   "outputs": [],
   "source": [
    "import pandas as pd\n",
    "import numpy as np\n",
    "import matplotlib.pyplot as plt\n",
    "np.random.seed(42)\n",
    "\n",
    "# Clientes\n",
    "clientes = pd.DataFrame({\n",
    "    'ClienteID': range(1, 11),\n",
    "    'Nombre': ['Ana Torres', 'Luis Vargas', 'Carlos Quispe', 'Rosa Díaz', 'Julia Meza',\n",
    "               'Pedro Lazo', 'Claudia Ríos', 'Marcos León', 'Fiorella Peña', 'Jorge Rivas'],\n",
    "    'Edad': np.random.randint(25, 65, size=10),\n",
    "    'Zona': np.random.choice(['Lima', 'Arequipa', 'Trujillo', 'Cusco'], size=10)\n",
    "})\n",
    "\n",
    "# Pólizas\n",
    "polizas = pd.DataFrame({\n",
    "    'PolizaID': range(101, 111),\n",
    "    'ClienteID': np.random.choice(clientes['ClienteID'], size=10, replace=False),\n",
    "    'TipoPoliza': np.random.choice(['Salud', 'Vida', 'Vehicular', 'Hogar', 'Viajes'], size=10),\n",
    "    'PrimaMensual': np.random.randint(80, 300, size=10)\n",
    "})\n",
    "\n",
    "# Siniestros\n",
    "siniestros = pd.DataFrame({\n",
    "    'SiniestroID': range(1001, 1021),\n",
    "    'ClienteID': np.random.choice(clientes['ClienteID'], size=20, replace=True),\n",
    "    'Monto': np.random.randint(500, 20000, size=20),\n",
    "    'Estado': np.random.choice(['Aprobado', 'Rechazado', 'Pendiente'], size=20, p=[0.5, 0.3, 0.2]),\n",
    "    'Fecha': pd.date_range(start='2024-01-01', periods=20, freq='15D')\n",
    "})"
   ]
  },
  {
   "cell_type": "markdown",
   "id": "bd7907f3",
   "metadata": {},
   "source": [
    "## 🔍 Análisis cruzado de datos"
   ]
  },
  {
   "cell_type": "code",
   "execution_count": 2,
   "id": "a5e9ac43",
   "metadata": {},
   "outputs": [
    {
     "name": "stdout",
     "output_type": "stream",
     "text": [
      "   SiniestroID         Nombre TipoPoliza  Monto     Estado      Fecha  \\\n",
      "0         1001      Rosa Díaz       Vida  13917  Pendiente 2024-01-01   \n",
      "1         1002  Fiorella Peña      Salud   8489   Aprobado 2024-01-16   \n",
      "2         1003    Luis Vargas      Hogar  10192  Pendiente 2024-01-31   \n",
      "3         1004    Jorge Rivas     Viajes  13490  Rechazado 2024-02-15   \n",
      "4         1005  Fiorella Peña      Salud   7373   Aprobado 2024-03-01   \n",
      "\n",
      "       Zona  \n",
      "0     Cusco  \n",
      "1  Arequipa  \n",
      "2      Lima  \n",
      "3     Cusco  \n",
      "4  Arequipa  \n"
     ]
    }
   ],
   "source": [
    "# Merge de siniestros con clientes y pólizas\n",
    "merged = siniestros.merge(clientes, on='ClienteID').merge(polizas, on='ClienteID')\n",
    "print(merged[['SiniestroID', 'Nombre', 'TipoPoliza', 'Monto', 'Estado', 'Fecha', 'Zona']].head())"
   ]
  },
  {
   "cell_type": "markdown",
   "id": "e65a93a3",
   "metadata": {},
   "source": [
    "### ✅ Total de siniestros por estado"
   ]
  },
  {
   "cell_type": "code",
   "execution_count": 3,
   "id": "36c4d3a7",
   "metadata": {},
   "outputs": [
    {
     "name": "stdout",
     "output_type": "stream",
     "text": [
      "      Estado  count    sum\n",
      "0   Aprobado     10  77006\n",
      "1  Pendiente      4  42532\n",
      "2  Rechazado      6  47360\n"
     ]
    }
   ],
   "source": [
    "estado_summary = merged.groupby('Estado')['Monto'].agg(['count', 'sum']).reset_index()\n",
    "print(estado_summary)"
   ]
  },
  {
   "cell_type": "markdown",
   "id": "1d47af3e",
   "metadata": {},
   "source": [
    "### 💰 Monto promedio reclamado por tipo de póliza"
   ]
  },
  {
   "cell_type": "code",
   "execution_count": 5,
   "id": "65333cf9",
   "metadata": {},
   "outputs": [
    {
     "name": "stdout",
     "output_type": "stream",
     "text": [
      "  TipoPoliza         Monto\n",
      "0      Hogar   8022.571429\n",
      "1      Salud   9298.666667\n",
      "2  Vehicular   5793.500000\n",
      "3     Viajes   9832.500000\n",
      "4       Vida  10001.250000\n"
     ]
    }
   ],
   "source": [
    "promedio_poliza = merged.groupby('TipoPoliza')['Monto'].mean().reset_index()\n",
    "print(promedio_poliza)"
   ]
  },
  {
   "cell_type": "markdown",
   "id": "23502b17",
   "metadata": {},
   "source": [
    "### 📊 Visualización – Siniestros por zona"
   ]
  },
  {
   "cell_type": "code",
   "execution_count": 4,
   "id": "2c7b37b3",
   "metadata": {},
   "outputs": [
    {
     "data": {
      "image/png": "[encoded data removed]",
      "text/plain": [
       "<Figure size 800x500 with 1 Axes>"
      ]
     },
     "metadata": {},
     "output_type": "display_data"
    }
   ],
   "source": [
    "zona_summary = merged.groupby('Zona')['Monto'].sum().reset_index()\n",
    "plt.figure(figsize=(8,5))\n",
    "plt.bar(zona_summary['Zona'], zona_summary['Monto'], color='teal')\n",
    "plt.title('Monto total de siniestros por zona')\n",
    "plt.xlabel('Zona geográfica')\n",
    "plt.ylabel('Monto (S/)')\n",
    "plt.grid(axis='y')\n",
    "plt.show()"
   ]
  }
 ],
 "metadata": {
  "kernelspec": {
   "display_name": "Python 3",
   "language": "python",
   "name": "python3"
  },
  "language_info": {
   "codemirror_mode": {
    "name": "ipython",
    "version": 3
   },
   "file_extension": ".py",
   "mimetype": "text/x-python",
   "name": "python",
   "nbconvert_exporter": "python",
   "pygments_lexer": "ipython3",
   "version": "3.13.2"
  }
 },
 "nbformat": 4,
 "nbformat_minor": 5
}
